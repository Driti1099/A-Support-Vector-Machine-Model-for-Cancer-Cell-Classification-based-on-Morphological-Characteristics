{
 "cells": [
  {
   "cell_type": "code",
   "execution_count": 2,
   "id": "2c225dbc-c2df-4daf-af1d-6eefc173c18c",
   "metadata": {
    "tags": []
   },
   "outputs": [],
   "source": [
    "import numpy as np\n",
    "import matplotlib.pyplot as plt\n",
    "import pandas as pd\n",
    "import sklearn"
   ]
  },
  {
   "cell_type": "code",
   "execution_count": 3,
   "id": "72e05211-efbd-4e9d-b32b-36a7e4db45fd",
   "metadata": {
    "tags": []
   },
   "outputs": [
    {
     "data": {
      "text/html": [
       "<div>\n",
       "<style scoped>\n",
       "    .dataframe tbody tr th:only-of-type {\n",
       "        vertical-align: middle;\n",
       "    }\n",
       "\n",
       "    .dataframe tbody tr th {\n",
       "        vertical-align: top;\n",
       "    }\n",
       "\n",
       "    .dataframe thead th {\n",
       "        text-align: right;\n",
       "    }\n",
       "</style>\n",
       "<table border=\"1\" class=\"dataframe\">\n",
       "  <thead>\n",
       "    <tr style=\"text-align: right;\">\n",
       "      <th></th>\n",
       "      <th>ID</th>\n",
       "      <th>Clump</th>\n",
       "      <th>UnifSize</th>\n",
       "      <th>UnifShape</th>\n",
       "      <th>MargAdh</th>\n",
       "      <th>SingEpiSize</th>\n",
       "      <th>BareNuc</th>\n",
       "      <th>BlandChrom</th>\n",
       "      <th>NormNucl</th>\n",
       "      <th>Mit</th>\n",
       "      <th>Class</th>\n",
       "    </tr>\n",
       "  </thead>\n",
       "  <tbody>\n",
       "    <tr>\n",
       "      <th>0</th>\n",
       "      <td>1000025</td>\n",
       "      <td>5</td>\n",
       "      <td>1</td>\n",
       "      <td>1</td>\n",
       "      <td>1</td>\n",
       "      <td>2</td>\n",
       "      <td>1</td>\n",
       "      <td>3</td>\n",
       "      <td>1</td>\n",
       "      <td>1</td>\n",
       "      <td>2</td>\n",
       "    </tr>\n",
       "    <tr>\n",
       "      <th>1</th>\n",
       "      <td>1002945</td>\n",
       "      <td>5</td>\n",
       "      <td>4</td>\n",
       "      <td>4</td>\n",
       "      <td>5</td>\n",
       "      <td>7</td>\n",
       "      <td>10</td>\n",
       "      <td>3</td>\n",
       "      <td>2</td>\n",
       "      <td>1</td>\n",
       "      <td>2</td>\n",
       "    </tr>\n",
       "    <tr>\n",
       "      <th>2</th>\n",
       "      <td>1015425</td>\n",
       "      <td>3</td>\n",
       "      <td>1</td>\n",
       "      <td>1</td>\n",
       "      <td>1</td>\n",
       "      <td>2</td>\n",
       "      <td>2</td>\n",
       "      <td>3</td>\n",
       "      <td>1</td>\n",
       "      <td>1</td>\n",
       "      <td>2</td>\n",
       "    </tr>\n",
       "    <tr>\n",
       "      <th>3</th>\n",
       "      <td>1016277</td>\n",
       "      <td>6</td>\n",
       "      <td>8</td>\n",
       "      <td>8</td>\n",
       "      <td>1</td>\n",
       "      <td>3</td>\n",
       "      <td>4</td>\n",
       "      <td>3</td>\n",
       "      <td>7</td>\n",
       "      <td>1</td>\n",
       "      <td>2</td>\n",
       "    </tr>\n",
       "    <tr>\n",
       "      <th>4</th>\n",
       "      <td>1017023</td>\n",
       "      <td>4</td>\n",
       "      <td>1</td>\n",
       "      <td>1</td>\n",
       "      <td>3</td>\n",
       "      <td>2</td>\n",
       "      <td>1</td>\n",
       "      <td>3</td>\n",
       "      <td>1</td>\n",
       "      <td>1</td>\n",
       "      <td>2</td>\n",
       "    </tr>\n",
       "  </tbody>\n",
       "</table>\n",
       "</div>"
      ],
      "text/plain": [
       "        ID  Clump  UnifSize  UnifShape  MargAdh  SingEpiSize BareNuc   \n",
       "0  1000025      5         1          1        1            2       1  \\\n",
       "1  1002945      5         4          4        5            7      10   \n",
       "2  1015425      3         1          1        1            2       2   \n",
       "3  1016277      6         8          8        1            3       4   \n",
       "4  1017023      4         1          1        3            2       1   \n",
       "\n",
       "   BlandChrom  NormNucl  Mit  Class  \n",
       "0           3         1    1      2  \n",
       "1           3         2    1      2  \n",
       "2           3         1    1      2  \n",
       "3           3         7    1      2  \n",
       "4           3         1    1      2  "
      ]
     },
     "execution_count": 3,
     "metadata": {},
     "output_type": "execute_result"
    }
   ],
   "source": [
    "data = pd.read_csv(\"C:\\\\Users\\\\Driti\\\\Downloads\\\\cancer_cell_dataset.csv\")\n",
    "data.head()"
   ]
  },
  {
   "cell_type": "code",
   "execution_count": 4,
   "id": "dd143c17-9eba-4275-8c36-7f9b87f4144b",
   "metadata": {
    "tags": []
   },
   "outputs": [
    {
     "name": "stdout",
     "output_type": "stream",
     "text": [
      "Data types of features are:\n",
      "ID              int64\n",
      "Clump           int64\n",
      "UnifSize        int64\n",
      "UnifShape       int64\n",
      "MargAdh         int64\n",
      "SingEpiSize     int64\n",
      "BareNuc        object\n",
      "BlandChrom      int64\n",
      "NormNucl        int64\n",
      "Mit             int64\n",
      "Class           int64\n",
      "dtype: object\n"
     ]
    }
   ],
   "source": [
    "print(\"Data types of features are:\\n{}\".format(data.dtypes))"
   ]
  },
  {
   "cell_type": "code",
   "execution_count": 5,
   "id": "b8e7719a-c309-4417-9fbb-fe611a286358",
   "metadata": {
    "tags": []
   },
   "outputs": [
    {
     "name": "stdout",
     "output_type": "stream",
     "text": [
      "Configured data types:\n",
      "ID             int64\n",
      "Clump          int64\n",
      "UnifSize       int64\n",
      "UnifShape      int64\n",
      "MargAdh        int64\n",
      "SingEpiSize    int64\n",
      "BareNuc        int64\n",
      "BlandChrom     int64\n",
      "NormNucl       int64\n",
      "Mit            int64\n",
      "Class          int64\n",
      "dtype: object\n"
     ]
    }
   ],
   "source": [
    "data = data[pd.to_numeric(data['BareNuc'], errors=\"coerce\").notnull()]\n",
    "\n",
    "#After getting only numeric and non-null values, we can convert the type to int\n",
    "data[\"BareNuc\"] = data[\"BareNuc\"].astype('int64')\n",
    "\n",
    "print(\"Configured data types:\\n{}\".format(data.dtypes))"
   ]
  },
  {
   "cell_type": "code",
   "execution_count": 6,
   "id": "3bc290a7-4abe-4c0d-88b8-93ecb4cad6a4",
   "metadata": {
    "tags": []
   },
   "outputs": [
    {
     "name": "stdout",
     "output_type": "stream",
     "text": [
      "Features:\n",
      "[[ 5  1  1  1  2  1  3  1  1]\n",
      " [ 5  4  4  5  7 10  3  2  1]\n",
      " [ 3  1  1  1  2  2  3  1  1]]\n",
      "Classes:\n",
      "[2 2 2]\n"
     ]
    }
   ],
   "source": [
    "X = np.asanyarray(data[['Clump', 'UnifSize', 'UnifShape', 'MargAdh', 'SingEpiSize', 'BareNuc', 'BlandChrom', 'NormNucl', 'Mit']])\n",
    "y = np.asanyarray(data['Class'].astype('int'))\n",
    "\n",
    "print(\"Features:\\n{}\\nClasses:\\n{}\".format(X[:3], y[:3]))"
   ]
  },
  {
   "cell_type": "code",
   "execution_count": 10,
   "id": "02a40772-572f-4df5-89bf-e03f31a86d50",
   "metadata": {
    "tags": []
   },
   "outputs": [
    {
     "name": "stdout",
     "output_type": "stream",
     "text": [
      "Training set: ((546, 9), (546,))\n",
      "Test set: ((137, 9), (137,))\n"
     ]
    }
   ],
   "source": [
    "from sklearn.model_selection import train_test_split\n",
    "\n",
    "# Your code for splitting the data\n",
    "training_X, test_X, training_y, test_y = train_test_split(X, y, test_size=0.2)\n",
    "print(\"Training set: {}\\nTest set: {}\".format((training_X.shape, training_y.shape), (test_X.shape, test_y.shape)))"
   ]
  },
  {
   "cell_type": "code",
   "execution_count": 13,
   "id": "29a2164a-567c-4f4e-933c-429e3b0b25f9",
   "metadata": {
    "tags": []
   },
   "outputs": [
    {
     "name": "stdout",
     "output_type": "stream",
     "text": [
      "True Labels: [4 4 2 4 2 4 2 4 4]\n",
      "Predicted Labels:[4 4 2 4 2 4 2 4 4]\n"
     ]
    }
   ],
   "source": [
    "from sklearn.svm import SVC\n",
    "\n",
    "# Your code for creating an SVM classifier\n",
    "model_rbf = SVC(kernel='rbf')\n",
    "model_rbf.fit(training_X, training_y)\n",
    "y_hat = model_rbf.predict(test_X)\n",
    "\n",
    "print(\"True Labels: {}\\nPredicted Labels:{}\".format(test_y[3:12], y_hat[3:12]))"
   ]
  },
  {
   "cell_type": "code",
   "execution_count": 14,
   "id": "4c155f43-c021-491b-8ef9-2ad1ca54a576",
   "metadata": {
    "tags": []
   },
   "outputs": [],
   "source": [
    "import itertools\n",
    "\n",
    "def plot_confusion_matrix(cm, classes, title='Confusion Matrix', cmap=plt.cm.Reds):\n",
    "    \n",
    "    plt.imshow(cm, interpolation='nearest', cmap=cmap)\n",
    "    plt.title(title)\n",
    "    plt.colorbar()\n",
    "    tick_marks = np.arange(len(classes))\n",
    "    plt.xticks(tick_marks, classes, rotation=45)\n",
    "    plt.yticks(tick_marks, classes)\n",
    "\n",
    "    thresh = cm.max() / 2.\n",
    "    for i, j in itertools.product(range(cm.shape[0]), range(cm.shape[1])):\n",
    "        plt.text(j, i, format(cm[i, j], '.2f'), horizontalalignment=\"center\", color=\"white\" if cm[i, j] > thresh else \"black\")\n",
    "\n",
    "    plt.tight_layout()\n",
    "    plt.ylabel('True label')\n",
    "    plt.xlabel('Predicted label')"
   ]
  },
  {
   "cell_type": "code",
   "execution_count": 15,
   "id": "ff420fdd-2d4c-493c-9b91-5d07174e5320",
   "metadata": {},
   "outputs": [
    {
     "data": {
      "image/png": "[encoded data removed]",
      "text/plain": [
       "<Figure size 640x480 with 2 Axes>"
      ]
     },
     "metadata": {},
     "output_type": "display_data"
    }
   ],
   "source": [
    "cf_matrix = sklearn.metrics.confusion_matrix(test_y, y_hat, labels=[2,4])\n",
    "np.set_printoptions(precision=2)\n",
    "\n",
    "plt.figure()\n",
    "plot_confusion_matrix(cf_matrix, classes=['Benign(2)','Malignant(4)'], title='Confusion Matrix')"
   ]
  },
  {
   "cell_type": "code",
   "execution_count": 16,
   "id": "64ffefb3-c79b-4034-b04b-51bb0878cb4c",
   "metadata": {},
   "outputs": [
    {
     "name": "stdout",
     "output_type": "stream",
     "text": [
      "              precision    recall  f1-score   support\n",
      "\n",
      "           2       1.00      0.99      0.99        99\n",
      "           4       0.97      1.00      0.99        38\n",
      "\n",
      "    accuracy                           0.99       137\n",
      "   macro avg       0.99      0.99      0.99       137\n",
      "weighted avg       0.99      0.99      0.99       137\n",
      "\n"
     ]
    }
   ],
   "source": [
    "print(sklearn.metrics.classification_report(test_y, y_hat))"
   ]
  },
  {
   "cell_type": "code",
   "execution_count": 17,
   "id": "18b8495e-38b1-4a13-908d-a07d75d1dbf2",
   "metadata": {},
   "outputs": [
    {
     "name": "stdout",
     "output_type": "stream",
     "text": [
      "F1-score of our model: 0.992729601718449\n",
      "Jaccard index: 0.98989898989899\n"
     ]
    }
   ],
   "source": [
    "print(\"F1-score of our model: {}\".format(sklearn.metrics.f1_score(test_y, y_hat, average=\"weighted\")))\n",
    "print(\"Jaccard index: {}\".format(sklearn.metrics.jaccard_score(test_y, y_hat, pos_label=2)))"
   ]
  },
  {
   "cell_type": "code",
   "execution_count": 18,
   "id": "bea82fea-d323-4cd8-bb7f-cc5eb9113e3f",
   "metadata": {},
   "outputs": [
    {
     "name": "stdout",
     "output_type": "stream",
     "text": [
      "              precision    recall  f1-score   support\n",
      "\n",
      "           2       0.99      1.00      0.99        99\n",
      "           4       1.00      0.97      0.99        38\n",
      "\n",
      "    accuracy                           0.99       137\n",
      "   macro avg       0.99      0.99      0.99       137\n",
      "weighted avg       0.99      0.99      0.99       137\n",
      "\n"
     ]
    }
   ],
   "source": [
    "model_linear = sklearn.svm.SVC(kernel=\"linear\")\n",
    "\n",
    "model_linear.fit(training_X, training_y)\n",
    "y_hat = model_linear.predict(test_X)\n",
    "\n",
    "print(sklearn.metrics.classification_report(test_y, y_hat))\n",
    "\n",
    "#Note 95% accuracy is lower than the RBF function-model."
   ]
  },
  {
   "cell_type": "code",
   "execution_count": 19,
   "id": "70edf7c6-4864-4fb4-b97f-c965b1356d8e",
   "metadata": {},
   "outputs": [
    {
     "name": "stdout",
     "output_type": "stream",
     "text": [
      "              precision    recall  f1-score   support\n",
      "\n",
      "           2       0.98      1.00      0.99        99\n",
      "           4       1.00      0.95      0.97        38\n",
      "\n",
      "    accuracy                           0.99       137\n",
      "   macro avg       0.99      0.97      0.98       137\n",
      "weighted avg       0.99      0.99      0.99       137\n",
      "\n"
     ]
    }
   ],
   "source": [
    "model_linear = sklearn.svm.SVC(kernel=\"poly\")\n",
    "\n",
    "model_linear.fit(training_X, training_y)\n",
    "y_hat = model_linear.predict(test_X)\n",
    "\n",
    "print(sklearn.metrics.classification_report(test_y, y_hat))\n",
    "\n",
    "#Note that 93% accuracy is much lower than the previous ones."
   ]
  },
  {
   "cell_type": "code",
   "execution_count": 20,
   "id": "8aba8e9f-6ef3-4b3c-983a-3e0b66b8e7bb",
   "metadata": {},
   "outputs": [
    {
     "name": "stdout",
     "output_type": "stream",
     "text": [
      "              precision    recall  f1-score   support\n",
      "\n",
      "           2       0.60      0.59      0.59        99\n",
      "           4       0.00      0.00      0.00        38\n",
      "\n",
      "    accuracy                           0.42       137\n",
      "   macro avg       0.30      0.29      0.30       137\n",
      "weighted avg       0.44      0.42      0.43       137\n",
      "\n"
     ]
    }
   ],
   "source": [
    "model_linear = sklearn.svm.SVC(kernel=\"sigmoid\")\n",
    "\n",
    "model_linear.fit(training_X, training_y)\n",
    "y_hat = model_linear.predict(test_X)\n",
    "\n",
    "print(sklearn.metrics.classification_report(test_y, y_hat))\n",
    "\n",
    "#Note that 45% accuracy is the lowest among them."
   ]
  }
 ],
 "metadata": {
  "kernelspec": {
   "display_name": "Python 3 (ipykernel)",
   "language": "python",
   "name": "python3"
  },
  "language_info": {
   "codemirror_mode": {
    "name": "ipython",
    "version": 3
   },
   "file_extension": ".py",
   "mimetype": "text/x-python",
   "name": "python",
   "nbconvert_exporter": "python",
   "pygments_lexer": "ipython3",
   "version": "3.11.3"
  }
 },
 "nbformat": 4,
 "nbformat_minor": 5
}
